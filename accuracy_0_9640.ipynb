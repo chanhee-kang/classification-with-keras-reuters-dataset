{
  "nbformat": 4,
  "nbformat_minor": 0,
  "metadata": {
    "colab": {
      "name": "accuracy:0.9640.ipynb",
      "provenance": [],
      "collapsed_sections": []
    },
    "kernelspec": {
      "name": "python3",
      "display_name": "Python 3"
    }
  },
  "cells": [
    {
      "cell_type": "code",
      "metadata": {
        "id": "oiLzTjqlJgV-",
        "colab_type": "code",
        "colab": {}
      },
      "source": [
        "import os\n",
        "import numpy as np\n",
        "import pandas as pd\n",
        "import keras\n",
        "from keras import models\n",
        "from keras import layers"
      ],
      "execution_count": 0,
      "outputs": []
    },
    {
      "cell_type": "code",
      "metadata": {
        "id": "-h8xC47GMP9k",
        "colab_type": "code",
        "colab": {}
      },
      "source": [
        "import warnings\n",
        "warnings.filterwarnings('ignore')\n",
        "from sklearn.metrics import make_scorer, confusion_matrix, precision_score, recall_score, accuracy_score, f1_score\n",
        "from sklearn.model_selection import cross_val_predict\n",
        "from sklearn.metrics import confusion_matrix\n",
        "from sklearn.metrics import precision_recall_curve, average_precision_score, auc\n",
        "from sklearn.model_selection import KFold\n",
        "from sklearn.model_selection import cross_validate"
      ],
      "execution_count": 0,
      "outputs": []
    },
    {
      "cell_type": "code",
      "metadata": {
        "id": "6docSSNqMReF",
        "colab_type": "code",
        "colab": {}
      },
      "source": [
        "import seaborn as sns\n",
        "import matplotlib.pyplot as plt\n",
        "%matplotlib inline\n",
        "get_ipython().magic(u'matplotlib inline')\n",
        "plt.style.use('ggplot')"
      ],
      "execution_count": 0,
      "outputs": []
    },
    {
      "cell_type": "code",
      "metadata": {
        "id": "a9OQmsQLMUCs",
        "colab_type": "code",
        "colab": {}
      },
      "source": [
        "import warnings\n",
        "warnings.filterwarnings('ignore')\n",
        "from sklearn.metrics import confusion_matrix, precision_score, recall_score, accuracy_score, f1_score\n",
        "from sklearn.model_selection import cross_val_predict\n",
        "from sklearn.metrics import confusion_matrix\n",
        "from sklearn.metrics import precision_recall_curve, average_precision_score, auc\n",
        "#from sklearn.utils.fixes import signature\n",
        "from sklearn.decomposition import PCA\n",
        "from sklearn.metrics import roc_curve\n",
        "from sklearn.metrics import roc_auc_score"
      ],
      "execution_count": 0,
      "outputs": []
    },
    {
      "cell_type": "code",
      "metadata": {
        "id": "UghiwoJjMnn_",
        "colab_type": "code",
        "colab": {}
      },
      "source": [
        "import tensorflow as tf\n",
        "from keras import models, regularizers, layers, optimizers, losses, metrics\n",
        "from keras.models import Sequential\n",
        "from keras.layers import Dense, Flatten\n",
        "from keras.layers import Conv2D, MaxPooling2D\n",
        "from keras.utils import np_utils, to_categorical\n",
        "from keras.layers.advanced_activations import LeakyReLU\n",
        "from keras.datasets import reuters\n",
        "from tensorflow.keras.models import load_model"
      ],
      "execution_count": 0,
      "outputs": []
    },
    {
      "cell_type": "code",
      "metadata": {
        "id": "fBzuC-W4K8lc",
        "colab_type": "code",
        "colab": {}
      },
      "source": [
        "from keras.datasets import reuters\n",
        "(train_data, train_labels), (test_data, test_labels) = reuters.load_data(\n",
        "    num_words=10000)"
      ],
      "execution_count": 0,
      "outputs": []
    },
    {
      "cell_type": "code",
      "metadata": {
        "id": "YPmEYXiVLiOh",
        "colab_type": "code",
        "outputId": "c1a6c90b-2159-4e44-a7a1-ff0e938cb541",
        "colab": {
          "base_uri": "https://localhost:8080/",
          "height": 85
        }
      },
      "source": [
        "print(\"train_data \", train_data.shape)\n",
        "print(\"train_labels \", train_labels.shape)\n",
        "\n",
        "print(\"test_data \", test_data.shape)\n",
        "print(\"test_labels \", test_labels.shape)"
      ],
      "execution_count": 29,
      "outputs": [
        {
          "output_type": "stream",
          "text": [
            "train_data  (8982,)\n",
            "train_labels  (8982,)\n",
            "test_data  (2246,)\n",
            "test_labels  (2246,)\n"
          ],
          "name": "stdout"
        }
      ]
    },
    {
      "cell_type": "code",
      "metadata": {
        "id": "uGFmOum3LuTt",
        "colab_type": "code",
        "outputId": "38b271e7-00ac-4941-b9a7-8063428482c4",
        "colab": {
          "base_uri": "https://localhost:8080/",
          "height": 71
        }
      },
      "source": [
        "word_index = reuters.get_word_index()\n",
        "reverse_word_index = dict([(value, key) for (key, value) in word_index.items()])\n",
        "decoded_newswire = ' '.join([reverse_word_index.get(i - 3, '?') for i in\n",
        "train_data[0]])\n",
        "\n",
        "print(decoded_newswire)\n",
        "print(train_labels[0])"
      ],
      "execution_count": 30,
      "outputs": [
        {
          "output_type": "stream",
          "text": [
            "? ? ? said as a result of its december acquisition of space co it expects earnings per share in 1987 of 1 15 to 1 30 dlrs per share up from 70 cts in 1986 the company said pretax net should rise to nine to 10 mln dlrs from six mln dlrs in 1986 and rental operation revenues to 19 to 22 mln dlrs from 12 5 mln dlrs it said cash flow per share this year should be 2 50 to three dlrs reuter 3\n",
            "3\n"
          ],
          "name": "stdout"
        }
      ]
    },
    {
      "cell_type": "code",
      "metadata": {
        "id": "oBXMWnuFMBUY",
        "colab_type": "code",
        "colab": {}
      },
      "source": [
        "def vectorize_sequences(sequences, dimension=10000):\n",
        "    results = np.zeros((len(sequences), dimension))\n",
        "    for i, sequence in enumerate(sequences):\n",
        "        results[i, sequence] = 1.\n",
        "    return results"
      ],
      "execution_count": 0,
      "outputs": []
    },
    {
      "cell_type": "code",
      "metadata": {
        "id": "ihMvWv6vMEst",
        "colab_type": "code",
        "outputId": "bdf774ac-ea81-4fca-e6cd-f871d95e5765",
        "colab": {
          "base_uri": "https://localhost:8080/",
          "height": 51
        }
      },
      "source": [
        "#백터화 및 정규화\n",
        "x_train = vectorize_sequences(train_data)\n",
        "x_test = vectorize_sequences(test_data)\n",
        "\n",
        "print(\"x_train \", x_train.shape)\n",
        "print(\"x_test \", x_test.shape)"
      ],
      "execution_count": 32,
      "outputs": [
        {
          "output_type": "stream",
          "text": [
            "x_train  (8982, 10000)\n",
            "x_test  (2246, 10000)\n"
          ],
          "name": "stdout"
        }
      ]
    },
    {
      "cell_type": "code",
      "metadata": {
        "id": "YNJeXQjzMHoz",
        "colab_type": "code",
        "outputId": "65563a70-525d-4461-dade-19346c7802d5",
        "colab": {
          "base_uri": "https://localhost:8080/",
          "height": 51
        }
      },
      "source": [
        "#원핫인코딩\n",
        "one_hot_train_labels = to_categorical(train_labels)\n",
        "one_hot_test_labels = to_categorical(test_labels)\n",
        "\n",
        "print(\"one_hot_train_labels \", one_hot_train_labels.shape)\n",
        "print(\"one_hot_test_labels \", one_hot_test_labels.shape)"
      ],
      "execution_count": 33,
      "outputs": [
        {
          "output_type": "stream",
          "text": [
            "one_hot_train_labels  (8982, 46)\n",
            "one_hot_test_labels  (2246, 46)\n"
          ],
          "name": "stdout"
        }
      ]
    },
    {
      "cell_type": "code",
      "metadata": {
        "id": "gPO2fjQ4Mumm",
        "colab_type": "code",
        "outputId": "79d93877-77bf-46a5-a09e-907bf5b2cb1c",
        "colab": {
          "base_uri": "https://localhost:8080/",
          "height": 85
        }
      },
      "source": [
        "#validation setting\n",
        "\n",
        "x_val = x_train[:1000]\n",
        "partial_x_train = x_train[1000:]\n",
        "y_val = one_hot_train_labels[:1000]\n",
        "partial_y_train = one_hot_train_labels[1000:]\n",
        "\n",
        "print(\"x_val \", x_val.shape)\n",
        "print(\"y_val \", y_val.shape)\n",
        "\n",
        "print(\"partial_x_train \", partial_x_train.shape)\n",
        "print(\"partial_y_train \", partial_y_train.shape)"
      ],
      "execution_count": 34,
      "outputs": [
        {
          "output_type": "stream",
          "text": [
            "x_val  (1000, 10000)\n",
            "y_val  (1000, 46)\n",
            "partial_x_train  (7982, 10000)\n",
            "partial_y_train  (7982, 46)\n"
          ],
          "name": "stdout"
        }
      ]
    },
    {
      "cell_type": "code",
      "metadata": {
        "id": "YXHGcXfXNBXW",
        "colab_type": "code",
        "outputId": "16ae7497-61bd-41f4-ec97-e1def85244c2",
        "colab": {
          "base_uri": "https://localhost:8080/",
          "height": 323
        }
      },
      "source": [
        "model = models.Sequential()\n",
        "model.add(layers.Dense(256, kernel_regularizer=regularizers.l1(0.001), activation='relu', input_shape=(10000,)))\n",
        "model.add(layers.Dropout(0.5))\n",
        "model.add(layers.Dense(256, kernel_regularizer=regularizers.l1(0.001), activation='relu'))\n",
        "model.add(layers.Dropout(0.5))\n",
        "model.add(layers.Dense(46, activation='softmax'))\n",
        "model.summary()"
      ],
      "execution_count": 35,
      "outputs": [
        {
          "output_type": "stream",
          "text": [
            "Model: \"sequential_2\"\n",
            "_________________________________________________________________\n",
            "Layer (type)                 Output Shape              Param #   \n",
            "=================================================================\n",
            "dense_4 (Dense)              (None, 256)               2560256   \n",
            "_________________________________________________________________\n",
            "dropout_3 (Dropout)          (None, 256)               0         \n",
            "_________________________________________________________________\n",
            "dense_5 (Dense)              (None, 256)               65792     \n",
            "_________________________________________________________________\n",
            "dropout_4 (Dropout)          (None, 256)               0         \n",
            "_________________________________________________________________\n",
            "dense_6 (Dense)              (None, 46)                11822     \n",
            "=================================================================\n",
            "Total params: 2,637,870\n",
            "Trainable params: 2,637,870\n",
            "Non-trainable params: 0\n",
            "_________________________________________________________________\n"
          ],
          "name": "stdout"
        }
      ]
    },
    {
      "cell_type": "code",
      "metadata": {
        "id": "2OYNetvBNGwg",
        "colab_type": "code",
        "outputId": "449a9115-4b8f-4546-bfa2-0bf9ae1aaca2",
        "colab": {
          "base_uri": "https://localhost:8080/",
          "height": 459
        }
      },
      "source": [
        "NumEpochs = 10\n",
        "BatchSize = 512\n",
        "\n",
        "model.compile(optimizer='rmsprop',loss='categorical_crossentropy', metrics=['accuracy'])\n",
        "history = model.fit(partial_x_train, partial_y_train, epochs=NumEpochs, batch_size=BatchSize, validation_data=(x_val, y_val))\n",
        "\n",
        "results = model.evaluate(x_val, y_val)\n",
        "print(\"_\"*100)\n",
        "print(\"Test Loss and Accuracy\")\n",
        "print(\"results \", results)\n",
        "\n",
        "history_dict = history.history\n",
        "history_dict.keys()"
      ],
      "execution_count": 36,
      "outputs": [
        {
          "output_type": "stream",
          "text": [
            "Train on 7982 samples, validate on 1000 samples\n",
            "Epoch 1/10\n",
            "7982/7982 [==============================] - 3s 337us/step - loss: 15.7152 - accuracy: 0.4514 - val_loss: 6.1696 - val_accuracy: 0.5880\n",
            "Epoch 2/10\n",
            "7982/7982 [==============================] - 2s 310us/step - loss: 5.7336 - accuracy: 0.5679 - val_loss: 5.2019 - val_accuracy: 0.6110\n",
            "Epoch 3/10\n",
            "7982/7982 [==============================] - 2s 308us/step - loss: 4.9772 - accuracy: 0.5980 - val_loss: 4.5942 - val_accuracy: 0.6260\n",
            "Epoch 4/10\n",
            "7982/7982 [==============================] - 2s 310us/step - loss: 4.4339 - accuracy: 0.6234 - val_loss: 4.1233 - val_accuracy: 0.6630\n",
            "Epoch 5/10\n",
            "7982/7982 [==============================] - 2s 307us/step - loss: 4.0224 - accuracy: 0.6448 - val_loss: 3.7409 - val_accuracy: 0.6750\n",
            "Epoch 6/10\n",
            "7982/7982 [==============================] - 2s 311us/step - loss: 3.7235 - accuracy: 0.6523 - val_loss: 3.5154 - val_accuracy: 0.6780\n",
            "Epoch 7/10\n",
            "7982/7982 [==============================] - 2s 305us/step - loss: 3.5258 - accuracy: 0.6622 - val_loss: 3.4085 - val_accuracy: 0.6770\n",
            "Epoch 8/10\n",
            "7982/7982 [==============================] - 2s 309us/step - loss: 3.4109 - accuracy: 0.6637 - val_loss: 3.2952 - val_accuracy: 0.6890\n",
            "Epoch 9/10\n",
            "7982/7982 [==============================] - 2s 307us/step - loss: 3.3201 - accuracy: 0.6714 - val_loss: 3.2523 - val_accuracy: 0.6720\n",
            "Epoch 10/10\n",
            "7982/7982 [==============================] - 2s 310us/step - loss: 3.2657 - accuracy: 0.6681 - val_loss: 3.1650 - val_accuracy: 0.6820\n",
            "1000/1000 [==============================] - 0s 262us/step\n",
            "____________________________________________________________________________________________________\n",
            "Test Loss and Accuracy\n",
            "results  [3.1650060672760008, 0.6819999814033508]\n"
          ],
          "name": "stdout"
        },
        {
          "output_type": "execute_result",
          "data": {
            "text/plain": [
              "dict_keys(['val_loss', 'val_accuracy', 'loss', 'accuracy'])"
            ]
          },
          "metadata": {
            "tags": []
          },
          "execution_count": 36
        }
      ]
    },
    {
      "cell_type": "code",
      "metadata": {
        "id": "oFa2eokJYwqD",
        "colab_type": "code",
        "outputId": "173d739c-7de0-4c06-9f49-640720137efa",
        "colab": {
          "base_uri": "https://localhost:8080/",
          "height": 255
        }
      },
      "source": [
        "from tensorflow.keras import models\n",
        "from tensorflow.keras import layers\n",
        "\n",
        "model = models.Sequential()\n",
        "model.add(layers.Dense(64, activation='relu', input_shape=(10000, )))\n",
        "model.add(layers.Dense(64, activation='relu'))\n",
        "model.add(layers.Dense(46, activation='softmax'))\n",
        "\n",
        "model.summary()"
      ],
      "execution_count": 37,
      "outputs": [
        {
          "output_type": "stream",
          "text": [
            "Model: \"sequential_1\"\n",
            "_________________________________________________________________\n",
            "Layer (type)                 Output Shape              Param #   \n",
            "=================================================================\n",
            "dense_3 (Dense)              (None, 64)                640064    \n",
            "_________________________________________________________________\n",
            "dense_4 (Dense)              (None, 64)                4160      \n",
            "_________________________________________________________________\n",
            "dense_5 (Dense)              (None, 46)                2990      \n",
            "=================================================================\n",
            "Total params: 647,214\n",
            "Trainable params: 647,214\n",
            "Non-trainable params: 0\n",
            "_________________________________________________________________\n"
          ],
          "name": "stdout"
        }
      ]
    },
    {
      "cell_type": "code",
      "metadata": {
        "id": "wEcDiJCwbD6M",
        "colab_type": "code",
        "colab": {}
      },
      "source": [
        "model.compile(\n",
        "    optimizer='adam',\n",
        "    loss='categorical_crossentropy',\n",
        "    metrics=['accuracy'],\n",
        ")"
      ],
      "execution_count": 0,
      "outputs": []
    },
    {
      "cell_type": "code",
      "metadata": {
        "id": "M5RaN7YoNRCd",
        "colab_type": "code",
        "colab": {}
      },
      "source": [
        "#검증 데이터셋\n",
        "x_val = x_train[:1000]\n",
        "partial_x_train = x_train[1000:]\n",
        "\n",
        "y_val = one_hot_train_labels[:1000]\n",
        "partial_y_train = one_hot_train_labels[1000:]\n"
      ],
      "execution_count": 0,
      "outputs": []
    },
    {
      "cell_type": "code",
      "metadata": {
        "id": "PSm-XMcyWETS",
        "colab_type": "code",
        "colab": {
          "base_uri": "https://localhost:8080/",
          "height": 357
        },
        "outputId": "2ae50ce4-4b9e-488e-9518-08a198465f38"
      },
      "source": [
        "#모델 학습\n",
        "history = model.fit(\n",
        "    partial_x_train, \n",
        "    partial_y_train,\n",
        "    epochs=10,\n",
        "    batch_size=512,\n",
        "    validation_data=(x_val, y_val)\n",
        ")"
      ],
      "execution_count": 45,
      "outputs": [
        {
          "output_type": "stream",
          "text": [
            "Epoch 1/10\n",
            "16/16 [==============================] - 1s 41ms/step - loss: 0.0848 - accuracy: 0.9619 - val_loss: 1.0676 - val_accuracy: 0.8180\n",
            "Epoch 2/10\n",
            "16/16 [==============================] - 1s 42ms/step - loss: 0.0909 - accuracy: 0.9614 - val_loss: 1.0819 - val_accuracy: 0.8080\n",
            "Epoch 3/10\n",
            "16/16 [==============================] - 1s 40ms/step - loss: 0.0873 - accuracy: 0.9614 - val_loss: 1.0882 - val_accuracy: 0.8150\n",
            "Epoch 4/10\n",
            "16/16 [==============================] - 1s 42ms/step - loss: 0.0835 - accuracy: 0.9620 - val_loss: 1.1278 - val_accuracy: 0.8100\n",
            "Epoch 5/10\n",
            "16/16 [==============================] - 1s 41ms/step - loss: 0.0839 - accuracy: 0.9628 - val_loss: 1.0958 - val_accuracy: 0.8080\n",
            "Epoch 6/10\n",
            "16/16 [==============================] - 1s 41ms/step - loss: 0.0788 - accuracy: 0.9623 - val_loss: 1.1133 - val_accuracy: 0.8060\n",
            "Epoch 7/10\n",
            "16/16 [==============================] - 1s 41ms/step - loss: 0.0819 - accuracy: 0.9632 - val_loss: 1.0876 - val_accuracy: 0.8090\n",
            "Epoch 8/10\n",
            "16/16 [==============================] - 1s 41ms/step - loss: 0.0840 - accuracy: 0.9640 - val_loss: 1.1419 - val_accuracy: 0.8100\n",
            "Epoch 9/10\n",
            "16/16 [==============================] - 1s 41ms/step - loss: 0.0819 - accuracy: 0.9629 - val_loss: 1.0882 - val_accuracy: 0.8050\n",
            "Epoch 10/10\n",
            "16/16 [==============================] - 1s 41ms/step - loss: 0.0842 - accuracy: 0.9627 - val_loss: 1.1284 - val_accuracy: 0.8090\n"
          ],
          "name": "stdout"
        }
      ]
    },
    {
      "cell_type": "code",
      "metadata": {
        "id": "d9-73j-AP9nM",
        "colab_type": "code",
        "colab": {}
      },
      "source": [
        "#데이터 레이블 인코딩 변경\n",
        "y_train = np.array(train_labels)\n",
        "y_test = np.array(test_labels)\n",
        "\n",
        "x_val = x_train[:1000]\n",
        "partial_x_train = x_train[1000:]\n",
        "\n",
        "y_val = y_train[:1000]\n",
        "partial_y_train = y_train[1000:]"
      ],
      "execution_count": 0,
      "outputs": []
    },
    {
      "cell_type": "code",
      "metadata": {
        "id": "mgCoHWR4X_9n",
        "colab_type": "code",
        "colab": {
          "base_uri": "https://localhost:8080/",
          "height": 255
        },
        "outputId": "ae989906-ee9b-4fac-aa5c-91a8ebfc3faf"
      },
      "source": [
        "#모델 작성\n",
        "model = models.Sequential()\n",
        "model.add(layers.Dense(64, activation='relu', input_shape=(10000, )))\n",
        "model.add(layers.Dense(64, activation='relu'))\n",
        "model.add(layers.Dense(46, activation='softmax'))\n",
        "\n",
        "model.summary()"
      ],
      "execution_count": 47,
      "outputs": [
        {
          "output_type": "stream",
          "text": [
            "Model: \"sequential_2\"\n",
            "_________________________________________________________________\n",
            "Layer (type)                 Output Shape              Param #   \n",
            "=================================================================\n",
            "dense_6 (Dense)              (None, 64)                640064    \n",
            "_________________________________________________________________\n",
            "dense_7 (Dense)              (None, 64)                4160      \n",
            "_________________________________________________________________\n",
            "dense_8 (Dense)              (None, 46)                2990      \n",
            "=================================================================\n",
            "Total params: 647,214\n",
            "Trainable params: 647,214\n",
            "Non-trainable params: 0\n",
            "_________________________________________________________________\n"
          ],
          "name": "stdout"
        }
      ]
    },
    {
      "cell_type": "code",
      "metadata": {
        "id": "6RbStP-oZUNq",
        "colab_type": "code",
        "colab": {}
      },
      "source": [
        "model.compile(\n",
        "    optimizer='adam',\n",
        "    loss='sparse_categorical_crossentropy',\n",
        "    metrics=['acc']\n",
        ")"
      ],
      "execution_count": 0,
      "outputs": []
    },
    {
      "cell_type": "code",
      "metadata": {
        "id": "NMjsriuXZWiY",
        "colab_type": "code",
        "colab": {
          "base_uri": "https://localhost:8080/",
          "height": 357
        },
        "outputId": "72845204-a6a0-4a58-c114-34c7d3c184b3"
      },
      "source": [
        "history = model.fit(\n",
        "    partial_x_train, \n",
        "    partial_y_train,\n",
        "    epochs=10,\n",
        "    batch_size=512,\n",
        "    validation_data=(x_val, y_val)\n",
        ")"
      ],
      "execution_count": 49,
      "outputs": [
        {
          "output_type": "stream",
          "text": [
            "Epoch 1/10\n",
            "16/16 [==============================] - 1s 45ms/step - loss: 3.2984 - acc: 0.3188 - val_loss: 2.6195 - val_acc: 0.3630\n",
            "Epoch 2/10\n",
            "16/16 [==============================] - 1s 40ms/step - loss: 2.0683 - acc: 0.5480 - val_loss: 1.6871 - val_acc: 0.6340\n",
            "Epoch 3/10\n",
            "16/16 [==============================] - 1s 64ms/step - loss: 1.3894 - acc: 0.7003 - val_loss: 1.2945 - val_acc: 0.7000\n",
            "Epoch 4/10\n",
            "16/16 [==============================] - 1s 68ms/step - loss: 1.0593 - acc: 0.7657 - val_loss: 1.1253 - val_acc: 0.7610\n",
            "Epoch 5/10\n",
            "16/16 [==============================] - 1s 68ms/step - loss: 0.8358 - acc: 0.8250 - val_loss: 1.0233 - val_acc: 0.7830\n",
            "Epoch 6/10\n",
            "16/16 [==============================] - 1s 68ms/step - loss: 0.6585 - acc: 0.8623 - val_loss: 0.9483 - val_acc: 0.8030\n",
            "Epoch 7/10\n",
            "16/16 [==============================] - 1s 68ms/step - loss: 0.5114 - acc: 0.8935 - val_loss: 0.9038 - val_acc: 0.8110\n",
            "Epoch 8/10\n",
            "16/16 [==============================] - 1s 65ms/step - loss: 0.4010 - acc: 0.9181 - val_loss: 0.8900 - val_acc: 0.8180\n",
            "Epoch 9/10\n",
            "16/16 [==============================] - 1s 40ms/step - loss: 0.3196 - acc: 0.9326 - val_loss: 0.8763 - val_acc: 0.8210\n",
            "Epoch 10/10\n",
            "16/16 [==============================] - 1s 41ms/step - loss: 0.2566 - acc: 0.9440 - val_loss: 0.8923 - val_acc: 0.8160\n"
          ],
          "name": "stdout"
        }
      ]
    },
    {
      "cell_type": "code",
      "metadata": {
        "id": "AE7PWEq6Zb3e",
        "colab_type": "code",
        "colab": {}
      },
      "source": [
        ""
      ],
      "execution_count": 0,
      "outputs": []
    }
  ]
}